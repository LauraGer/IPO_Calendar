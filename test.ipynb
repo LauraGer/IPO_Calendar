{
 "cells": [
  {
   "cell_type": "code",
   "execution_count": 24,
   "metadata": {},
   "outputs": [
    {
     "name": "stdout",
     "output_type": "stream",
     "text": [
      "Requirement already satisfied: SciPy in /Users/lauragerlach/.pyenv/versions/3.8.12/lib/python3.8/site-packages (1.10.1)\n",
      "Requirement already satisfied: numpy<1.27.0,>=1.19.5 in /Users/lauragerlach/.pyenv/versions/3.8.12/lib/python3.8/site-packages (from SciPy) (1.24.4)\n",
      "Requirement already satisfied: numpy in /Users/lauragerlach/.pyenv/versions/3.8.12/lib/python3.8/site-packages (1.24.4)\n",
      "\u001b[31mERROR: Could not find a version that satisfies the requirement PIL (from versions: none)\u001b[0m\u001b[31m\n",
      "\u001b[0m\u001b[31mERROR: No matching distribution found for PIL\u001b[0m\u001b[31m\n",
      "\u001b[0mRequirement already satisfied: IPython in /Users/lauragerlach/.pyenv/versions/3.8.12/lib/python3.8/site-packages (8.7.0)\n",
      "Requirement already satisfied: backcall in /Users/lauragerlach/.pyenv/versions/3.8.12/lib/python3.8/site-packages (from IPython) (0.2.0)\n",
      "Requirement already satisfied: decorator in /Users/lauragerlach/.pyenv/versions/3.8.12/lib/python3.8/site-packages (from IPython) (5.1.1)\n",
      "Requirement already satisfied: jedi>=0.16 in /Users/lauragerlach/.pyenv/versions/3.8.12/lib/python3.8/site-packages (from IPython) (0.18.2)\n",
      "Requirement already satisfied: matplotlib-inline in /Users/lauragerlach/.pyenv/versions/3.8.12/lib/python3.8/site-packages (from IPython) (0.1.6)\n",
      "Requirement already satisfied: pickleshare in /Users/lauragerlach/.pyenv/versions/3.8.12/lib/python3.8/site-packages (from IPython) (0.7.5)\n",
      "Requirement already satisfied: prompt-toolkit<3.1.0,>=3.0.11 in /Users/lauragerlach/.pyenv/versions/3.8.12/lib/python3.8/site-packages (from IPython) (3.0.36)\n",
      "Requirement already satisfied: pygments>=2.4.0 in /Users/lauragerlach/.pyenv/versions/3.8.12/lib/python3.8/site-packages (from IPython) (2.13.0)\n",
      "Requirement already satisfied: stack-data in /Users/lauragerlach/.pyenv/versions/3.8.12/lib/python3.8/site-packages (from IPython) (0.6.2)\n",
      "Requirement already satisfied: traitlets>=5 in /Users/lauragerlach/.pyenv/versions/3.8.12/lib/python3.8/site-packages (from IPython) (5.7.0)\n",
      "Requirement already satisfied: pexpect>4.3 in /Users/lauragerlach/.pyenv/versions/3.8.12/lib/python3.8/site-packages (from IPython) (4.8.0)\n",
      "Requirement already satisfied: appnope in /Users/lauragerlach/.pyenv/versions/3.8.12/lib/python3.8/site-packages (from IPython) (0.1.3)\n",
      "Requirement already satisfied: parso<0.9.0,>=0.8.0 in /Users/lauragerlach/.pyenv/versions/3.8.12/lib/python3.8/site-packages (from jedi>=0.16->IPython) (0.8.3)\n",
      "Requirement already satisfied: ptyprocess>=0.5 in /Users/lauragerlach/.pyenv/versions/3.8.12/lib/python3.8/site-packages (from pexpect>4.3->IPython) (0.7.0)\n",
      "Requirement already satisfied: wcwidth in /Users/lauragerlach/.pyenv/versions/3.8.12/lib/python3.8/site-packages (from prompt-toolkit<3.1.0,>=3.0.11->IPython) (0.2.5)\n",
      "Requirement already satisfied: executing>=1.2.0 in /Users/lauragerlach/.pyenv/versions/3.8.12/lib/python3.8/site-packages (from stack-data->IPython) (1.2.0)\n",
      "Requirement already satisfied: asttokens>=2.1.0 in /Users/lauragerlach/.pyenv/versions/3.8.12/lib/python3.8/site-packages (from stack-data->IPython) (2.2.1)\n",
      "Requirement already satisfied: pure-eval in /Users/lauragerlach/.pyenv/versions/3.8.12/lib/python3.8/site-packages (from stack-data->IPython) (0.2.2)\n",
      "Requirement already satisfied: six in /Users/lauragerlach/.pyenv/versions/3.8.12/lib/python3.8/site-packages (from asttokens>=2.1.0->stack-data->IPython) (1.16.0)\n"
     ]
    }
   ],
   "source": [
    "!pip install SciPy\n",
    "!pip install numpy\n",
    "!pip install PIL\n",
    "!pip install IPython\n"
   ]
  },
  {
   "cell_type": "code",
   "execution_count": 25,
   "metadata": {},
   "outputs": [
    {
     "ename": "ModuleNotFoundError",
     "evalue": "No module named 'cStringIO'",
     "output_type": "error",
     "traceback": [
      "\u001b[0;31m---------------------------------------------------------------------------\u001b[0m",
      "\u001b[0;31mModuleNotFoundError\u001b[0m                       Traceback (most recent call last)",
      "\u001b[1;32m/Users/lauragerlach/Development/git/playground/IPOCalendar/test.ipynb Cell 2\u001b[0m line \u001b[0;36m2\n\u001b[1;32m      <a href='vscode-notebook-cell:/Users/lauragerlach/Development/git/playground/IPOCalendar/test.ipynb#W3sZmlsZQ%3D%3D?line=0'>1</a>\u001b[0m \u001b[39m# imports and basic notebook setup\u001b[39;00m\n\u001b[0;32m----> <a href='vscode-notebook-cell:/Users/lauragerlach/Development/git/playground/IPOCalendar/test.ipynb#W3sZmlsZQ%3D%3D?line=1'>2</a>\u001b[0m \u001b[39mfrom\u001b[39;00m \u001b[39mcStringIO\u001b[39;00m \u001b[39mimport\u001b[39;00m StringIO\n\u001b[1;32m      <a href='vscode-notebook-cell:/Users/lauragerlach/Development/git/playground/IPOCalendar/test.ipynb#W3sZmlsZQ%3D%3D?line=2'>3</a>\u001b[0m \u001b[39mimport\u001b[39;00m \u001b[39mnumpy\u001b[39;00m \u001b[39mas\u001b[39;00m \u001b[39mnp\u001b[39;00m\n\u001b[1;32m      <a href='vscode-notebook-cell:/Users/lauragerlach/Development/git/playground/IPOCalendar/test.ipynb#W3sZmlsZQ%3D%3D?line=3'>4</a>\u001b[0m \u001b[39mimport\u001b[39;00m \u001b[39mscipy\u001b[39;00m\u001b[39m.\u001b[39;00m\u001b[39mndimage\u001b[39;00m \u001b[39mas\u001b[39;00m \u001b[39mnd\u001b[39;00m\n",
      "\u001b[0;31mModuleNotFoundError\u001b[0m: No module named 'cStringIO'"
     ]
    }
   ],
   "source": [
    "\n",
    "# imports and basic notebook setup\n",
    "from cStringIO import StringIO\n",
    "import numpy as np\n",
    "import scipy.ndimage as nd\n",
    "import PIL.Image\n",
    "from IPython.display import clear_output, Image, display\n",
    "from google.protobuf import text_format\n",
    "\n",
    "import caffe\n",
    "\n",
    "# If your GPU supports CUDA and Caffe was built with CUDA support,\n",
    "# uncomment the following to run Caffe operations on the GPU.\n",
    "# caffe.set_mode_gpu()\n",
    "# caffe.set_device(0) # select GPU device if multiple devices exist\n",
    "\n",
    "def showarray(a, fmt='jpeg'):\n",
    "    a = np.uint8(np.clip(a, 0, 255))\n",
    "    f = StringIO()\n",
    "    PIL.Image.fromarray(a).save(f, fmt)\n",
    "    display(Image(data=f.getvalue()))"
   ]
  }
 ],
 "metadata": {
  "kernelspec": {
   "display_name": "Python 3",
   "language": "python",
   "name": "python3"
  },
  "language_info": {
   "codemirror_mode": {
    "name": "ipython",
    "version": 3
   },
   "file_extension": ".py",
   "mimetype": "text/x-python",
   "name": "python",
   "nbconvert_exporter": "python",
   "pygments_lexer": "ipython3",
   "version": "3.8.12"
  },
  "orig_nbformat": 4
 },
 "nbformat": 4,
 "nbformat_minor": 2
}
